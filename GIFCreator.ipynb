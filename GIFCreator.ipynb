{
  "nbformat": 4,
  "nbformat_minor": 0,
  "metadata": {
    "colab": {
      "provenance": []
    },
    "kernelspec": {
      "name": "python3",
      "display_name": "Python 3"
    },
    "language_info": {
      "name": "python"
    }
  },
  "cells": [
    {
      "cell_type": "code",
      "execution_count": null,
      "metadata": {
        "colab": {
          "base_uri": "https://localhost:8080/"
        },
        "id": "ru-moaIYZVyI",
        "outputId": "bb61453d-57dc-49b2-dc06-f689a446555a"
      },
      "outputs": [
        {
          "output_type": "stream",
          "name": "stdout",
          "text": [
            "MoviePy - Building file football.gif with imageio.\n"
          ]
        },
        {
          "output_type": "stream",
          "name": "stderr",
          "text": []
        }
      ],
      "source": [
        "import os\n",
        "from moviepy.editor import *\n",
        "\n",
        "clip = (VideoFileClip\\\n",
        "        (\"football.mp4\", audio=False)\n",
        "      .resize(.5)\n",
        "      .subclip(12.33,12.93)\n",
        "      .speedx(.5))\n",
        "\n",
        "clip.write_gif(\"football.gif\")\n"
      ]
    },
    {
      "cell_type": "code",
      "source": [],
      "metadata": {
        "id": "crTog_lHf1yz"
      },
      "execution_count": null,
      "outputs": []
    }
  ]
}